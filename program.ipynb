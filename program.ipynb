{
 "cells": [
  {
   "cell_type": "markdown",
   "metadata": {},
   "source": [
    "Faça um programa em Python que conte o número de vogais em um arquivo de texto. Você pode escolher o texto que estará dentro do arquivo, pode ser uma poesia ou uma pequena história."
   ]
  },
  {
   "cell_type": "code",
   "execution_count": 6,
   "metadata": {},
   "outputs": [
    {
     "name": "stdout",
     "output_type": "stream",
     "text": [
      "Vezes em que a vogal U apareceu: 34 \n"
     ]
    }
   ],
   "source": [
    "nome = \"texto.txt\"\n",
    "letra = input(\"Escolha uma vogal para buscar no texto: \")\n",
    "\n",
    "arquivo = open(nome, \"r\", encoding=\"utf-8\")\n",
    "\n",
    "conteudo = arquivo.read()\n",
    "conteudo = conteudo.lower()\n",
    "cont = conteudo.count(letra.lower())\n",
    "\n",
    "print(f\"Vezes em que a vogal {letra.upper()} apareceu: {cont} \")\n",
    "\n",
    "arquivo.close()"
   ]
  }
 ],
 "metadata": {
  "kernelspec": {
   "display_name": "Python 3",
   "language": "python",
   "name": "python3"
  },
  "language_info": {
   "codemirror_mode": {
    "name": "ipython",
    "version": 3
   },
   "file_extension": ".py",
   "mimetype": "text/x-python",
   "name": "python",
   "nbconvert_exporter": "python",
   "pygments_lexer": "ipython3",
   "version": "3.11.5"
  }
 },
 "nbformat": 4,
 "nbformat_minor": 2
}
